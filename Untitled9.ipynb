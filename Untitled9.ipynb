{
  "nbformat": 4,
  "nbformat_minor": 0,
  "metadata": {
    "colab": {
      "name": "Untitled9.ipynb",
      "provenance": [],
      "authorship_tag": "ABX9TyPyFRtteveG6TO+YvBsjlr1",
      "include_colab_link": true
    },
    "kernelspec": {
      "name": "python3",
      "display_name": "Python 3"
    },
    "language_info": {
      "name": "python"
    }
  },
  "cells": [
    {
      "cell_type": "markdown",
      "metadata": {
        "id": "view-in-github",
        "colab_type": "text"
      },
      "source": [
        "<a href=\"https://colab.research.google.com/github/dataandai/Domainspecific-pretrain-for-BERT/blob/main/Untitled9.ipynb\" target=\"_parent\"><img src=\"https://colab.research.google.com/assets/colab-badge.svg\" alt=\"Open In Colab\"/></a>"
      ]
    },
    {
      "cell_type": "code",
      "execution_count": 3,
      "metadata": {
        "colab": {
          "base_uri": "https://localhost:8080/",
          "height": 282
        },
        "id": "HI-FavGNaAHz",
        "outputId": "eec0f5c2-5527-47e8-8273-b7cbe85d3cf2"
      },
      "outputs": [
        {
          "output_type": "execute_result",
          "data": {
            "text/plain": [
              "[<matplotlib.lines.Line2D at 0x7f1cd7560d10>]"
            ]
          },
          "metadata": {},
          "execution_count": 3
        },
        {
          "output_type": "display_data",
          "data": {
            "image/png": "[encoded data removed]",
            "text/plain": [
              "<Figure size 432x288 with 1 Axes>"
            ]
          },
          "metadata": {
            "needs_background": "light"
          }
        }
      ],
      "source": [
        "import numpy as np \n",
        "import pandas as pd \n",
        "import torch\n",
        "import matplotlib.pyplot as plot\n",
        "model = torch.nn.Linear(4, 3)\n",
        "optimizers = torch.optim.Adam(model.parameters(), lr=100)\n",
        "lambda1 = lambda epoch: 0.67 ** epoch\n",
        "scheduler = torch.optim.lr_scheduler.LambdaLR(optimizers, lr_lambda=lambda1)\n",
        "\n",
        "\n",
        "lrs = []\n",
        "\n",
        "for i in range(10):\n",
        "    optimizers.step()\n",
        "    lrs.append(optimizers.param_groups[0][\"lr\"])\n",
        "\n",
        "    scheduler.step()\n",
        "\n",
        "plot.plot(range(10),lrs)\n",
        "optimizers = torch.optim.Adam(model.parameters(), lr=120)\n",
        "lmbda = lambda epoch: 0.69 ** epoch\n",
        "scheduler = torch.optim.lr_scheduler.MultiplicativeLR(optimizers, lr_lambda=lmbda)\n",
        "lrs = []\n",
        "\n",
        "for i in range(10):\n",
        "    optimizers.step()\n",
        "    lrs.append(optimizers.param_groups[0][\"lr\"])\n",
        "\n",
        "    scheduler.step()\n",
        "\n",
        "plot.plot(range(10),lrs)"
      ]
    }
  ]
}