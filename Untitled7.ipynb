{
  "nbformat": 4,
  "nbformat_minor": 0,
  "metadata": {
    "colab": {
      "name": "Untitled7.ipynb",
      "provenance": [],
      "authorship_tag": "ABX9TyN+4tS8VW4ybiMW3aNcPJzv",
      "include_colab_link": true
    },
    "kernelspec": {
      "name": "python3",
      "display_name": "Python 3"
    },
    "language_info": {
      "name": "python"
    }
  },
  "cells": [
    {
      "cell_type": "markdown",
      "metadata": {
        "id": "view-in-github",
        "colab_type": "text"
      },
      "source": [
        "<a href=\"https://colab.research.google.com/github/dataandai/Domainspecific-pretrain-for-BERT/blob/main/Untitled7.ipynb\" target=\"_parent\"><img src=\"https://colab.research.google.com/assets/colab-badge.svg\" alt=\"Open In Colab\"/></a>"
      ]
    },
    {
      "cell_type": "markdown",
      "source": [
        "ide "
      ],
      "metadata": {
        "id": "1WwLQpFgXYK6"
      }
    },
    {
      "cell_type": "code",
      "execution_count": 2,
      "metadata": {
        "id": "PziYQP6NXHyc"
      },
      "outputs": [],
      "source": [
        "import torch\n",
        "from torch import nn\n",
        "import torch.optim as optim"
      ]
    },
    {
      "cell_type": "code",
      "source": [
        "a = 2.4785694\n",
        "b = 7.3256989\n",
        "error = 0.1\n",
        "n = 100 \n",
        "\n",
        "# Data\n",
        "x = torch.randn(n, 1)\n",
        "\n",
        "t = a * x + b + (torch.randn(n, 1) * error)\n",
        "\n",
        "model = nn.Linear(1, 1)\n",
        "optimizer = optim.Adam(model.parameters(), lr=0.05)\n",
        "loss_fn = nn.MSELoss()\n"
      ],
      "metadata": {
        "id": "zK5wdi0rXw9U"
      },
      "execution_count": 3,
      "outputs": []
    },
    {
      "cell_type": "code",
      "source": [
        "# Run training\n",
        "niter = 10\n",
        "for _ in range(0, niter):\n",
        "\toptimizer.zero_grad()\n",
        "\tpredictions = model(x)\n",
        "\tloss = loss_fn(predictions, t)\n",
        "\tloss.backward()\n",
        "\toptimizer.step()\n",
        "\n",
        "\tprint(\"-\" * 10)\n",
        "\tprint(\"learned a = {}\".format(list(model.parameters())[0].data[0, 0]))\n",
        "\tprint(\"learned b = {}\".format(list(model.parameters())[1].data[0]))"
      ],
      "metadata": {
        "colab": {
          "base_uri": "https://localhost:8080/"
        },
        "id": "LYDldzKwX2Ur",
        "outputId": "036ee351-489b-4411-f8eb-bf95190a1129"
      },
      "execution_count": 4,
      "outputs": [
        {
          "output_type": "stream",
          "name": "stdout",
          "text": [
            "----------\n",
            "learned a = 0.4278886914253235\n",
            "learned b = 0.4637497067451477\n",
            "----------\n",
            "learned a = 0.4778529107570648\n",
            "learned b = 0.5137399435043335\n",
            "----------\n",
            "learned a = 0.5277562737464905\n",
            "learned b = 0.5637138485908508\n",
            "----------\n",
            "learned a = 0.5775729417800903\n",
            "learned b = 0.6136648058891296\n",
            "----------\n",
            "learned a = 0.6272761821746826\n",
            "learned b = 0.6635861992835999\n",
            "----------\n",
            "learned a = 0.6768385767936707\n",
            "learned b = 0.7134714126586914\n",
            "----------\n",
            "learned a = 0.7262319326400757\n",
            "learned b = 0.7633137702941895\n",
            "----------\n",
            "learned a = 0.7754274606704712\n",
            "learned b = 0.8131067156791687\n",
            "----------\n",
            "learned a = 0.8243957757949829\n",
            "learned b = 0.8628436923027039\n",
            "----------\n",
            "learned a = 0.8731068968772888\n",
            "learned b = 0.9125181436538696\n"
          ]
        }
      ]
    }
  ]
}